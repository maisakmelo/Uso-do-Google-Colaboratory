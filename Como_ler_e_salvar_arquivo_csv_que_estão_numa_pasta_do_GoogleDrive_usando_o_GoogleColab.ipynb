{
  "nbformat": 4,
  "nbformat_minor": 0,
  "metadata": {
    "kernelspec": {
      "display_name": "Python 3",
      "language": "python",
      "name": "python3"
    },
    "language_info": {
      "codemirror_mode": {
        "name": "ipython",
        "version": 3
      },
      "file_extension": ".py",
      "mimetype": "text/x-python",
      "name": "python",
      "nbconvert_exporter": "python",
      "pygments_lexer": "ipython3",
      "version": "3.7.1"
    },
    "colab": {
      "name": "Como ler e salvar arquivo .csv que estão numa pasta do GoogleDrive usando o GoogleColab.ipynb",
      "provenance": [],
      "toc_visible": true
    }
  },
  "cells": [
    {
      "cell_type": "markdown",
      "metadata": {
        "id": "uneBYnTMsbKx",
        "colab_type": "text"
      },
      "source": [
        "# Como ler, alterar e salvar arquivos pelo Google Colaboratory\n",
        "\n",
        "Autores:\n",
        "\n",
        "*   Bruno Henrique Golfette @brunohg\n",
        "*   Maisa Kely de Melo @maisakmelo"
      ]
    },
    {
      "cell_type": "markdown",
      "metadata": {
        "id": "IyXQThoYsbKy",
        "colab_type": "text"
      },
      "source": [
        "Neste arquivo você pode ler, alterar e salvar um arquivo que está numa pasta do Google Drive utilizando o Google Colaboratory"
      ]
    },
    {
      "cell_type": "markdown",
      "metadata": {
        "id": "vWdbO-ORsbKz",
        "colab_type": "text"
      },
      "source": [
        "### Para isto:\n",
        "1. crie um arquivo .ipynb;\n",
        "2. abra-o utilizando o Google Colaboratory."
      ]
    },
    {
      "cell_type": "markdown",
      "metadata": {
        "id": "VQTEMvd0sbK0",
        "colab_type": "text"
      },
      "source": [
        "Após abrir o arquivo .ipynb pelo Google Colaboratory, você precisa trazer sua pasta onde estão os arquivos para o \n",
        "Google Colaboratory.\n",
        "\n",
        "Use o comando abaixo:"
      ]
    },
    {
      "cell_type": "code",
      "metadata": {
        "id": "Y5KIbj4FsbK1",
        "colab_type": "code",
        "colab": {}
      },
      "source": [
        "from google.colab import drive\n",
        "\n",
        "drive.mount('/content/gdrive')"
      ],
      "execution_count": null,
      "outputs": []
    },
    {
      "cell_type": "markdown",
      "metadata": {
        "id": "_1n25VO-sbK4",
        "colab_type": "text"
      },
      "source": [
        "Siga esses passos para trazer sua pasta do Google Drive para o Google Colaboratory:\n",
        "\n",
        "1.  Ao executar o comando acima, irá aparecer um link que irá te direcionar para autorizar o uso da sua conta do gmail.\n",
        "2.  Clique neste link.\n",
        "3. Na caixa de diálogo que irá aparecer, selecione sua conta de email e clique em permitir.\n",
        "4. Copie o link que dá acesso a sua conta do gmail.\n",
        "5. Cole este link no espaço em branco da célula do Google Colaboratory\n",
        "6. Dê enter."
      ]
    },
    {
      "cell_type": "markdown",
      "metadata": {
        "id": "hEKBK4i1sbK4",
        "colab_type": "text"
      },
      "source": [
        "Pronto! Agora você pode visualizar sua pasta do Google Drive no lado esquerdo da tela do Google Colaboratory."
      ]
    },
    {
      "cell_type": "markdown",
      "metadata": {
        "id": "fBMXiXEhsbK5",
        "colab_type": "text"
      },
      "source": [
        "Para ler e salvar os arquivos que estão nesta pasta, é necessário informar o caminho dela."
      ]
    },
    {
      "cell_type": "markdown",
      "metadata": {
        "id": "qVK9s03gsbK5",
        "colab_type": "text"
      },
      "source": [
        "Inicialmente o comando **import sys** traz toda a pasta onde estão os arquivos .py. Depois, para cada arquivo .txt, .xlsx, .csv, etc, o caminho deverá ser informado individualmente."
      ]
    },
    {
      "cell_type": "markdown",
      "metadata": {
        "id": "gw2gFaXIsbK6",
        "colab_type": "text"
      },
      "source": [
        "Para obter o caminho da pasta:\n",
        "1. Aponte o cursor sobre a pasta onde estão os arquivos.\n",
        "2. Clique nos três pontinhos que aparecem ao lado do nome da pasta.\n",
        "3. Clique em Copy path (copiar caminho, em português).\n",
        "4. Cole o endereço do caminho no comando abaixo:"
      ]
    },
    {
      "cell_type": "code",
      "metadata": {
        "id": "ngPvgVkZsbK6",
        "colab_type": "code",
        "colab": {}
      },
      "source": [
        "import sys\n",
        "sys.path.insert(1, '/content/gdrive/My Drive/ParceriaBrunoGolfete/UsoDoGoogleColaboratory')\n",
        "\n",
        "# Observação: Esse é o caminho da pasta do meu Google Drive, atualize com o caminho da sua pasta!"
      ],
      "execution_count": null,
      "outputs": []
    },
    {
      "cell_type": "markdown",
      "metadata": {
        "id": "Qojks7yysbK8",
        "colab_type": "text"
      },
      "source": [
        "Agora é possível acessar todas as funções e arquivos que estão nesta pasta."
      ]
    },
    {
      "cell_type": "markdown",
      "metadata": {
        "id": "rYPozxW1sbK9",
        "colab_type": "text"
      },
      "source": [
        "Vamos:\n",
        "\n",
        "* ler o arquivo .xlsx com o preço de fechamento do Ibovespa de cinco ações\n",
        "* calcular o retorno dessas ações\n",
        "* salvar os retornos calculados num arquivo .csv"
      ]
    },
    {
      "cell_type": "markdown",
      "metadata": {
        "id": "kFVUafOTy1v-",
        "colab_type": "text"
      },
      "source": [
        "Criei um módulo que lê e calcula os retornos num arquivo .py separado: o módulo RETORNO.py. \n",
        "\n",
        "Esse módulo deve ser importado...\n",
        "\n",
        "#### Importante!!\n",
        "\n",
        "Abra o arquivo **RETORNO.py** e veja que no momento de fazer a leitura do arquivo .xlsx que contém a base de dados do preços de fechamento das ações, foi informado o caminho da pasta onde está esse arquivo."
      ]
    },
    {
      "cell_type": "code",
      "metadata": {
        "id": "JKx8ZO2ysbK9",
        "colab_type": "code",
        "colab": {}
      },
      "source": [
        "import RETORNO as ret"
      ],
      "execution_count": null,
      "outputs": []
    },
    {
      "cell_type": "code",
      "metadata": {
        "id": "bWiQ45rwsbK_",
        "colab_type": "code",
        "colab": {}
      },
      "source": [
        "retornos = ret.retorno()"
      ],
      "execution_count": null,
      "outputs": []
    },
    {
      "cell_type": "code",
      "metadata": {
        "id": "t3dTDC7hsbLC",
        "colab_type": "code",
        "colab": {
          "base_uri": "https://localhost:8080/",
          "height": 235
        },
        "outputId": "64566ea0-f9a6-48ed-db3c-1c0862d2997c"
      },
      "source": [
        "retornos.head()"
      ],
      "execution_count": null,
      "outputs": [
        {
          "output_type": "execute_result",
          "data": {
            "text/html": [
              "<div>\n",
              "<style scoped>\n",
              "    .dataframe tbody tr th:only-of-type {\n",
              "        vertical-align: middle;\n",
              "    }\n",
              "\n",
              "    .dataframe tbody tr th {\n",
              "        vertical-align: top;\n",
              "    }\n",
              "\n",
              "    .dataframe thead th {\n",
              "        text-align: right;\n",
              "    }\n",
              "</style>\n",
              "<table border=\"1\" class=\"dataframe\">\n",
              "  <thead>\n",
              "    <tr style=\"text-align: right;\">\n",
              "      <th></th>\n",
              "      <th>CCRO3 BS Equity</th>\n",
              "      <th>JBSS3 BS Equity</th>\n",
              "      <th>LAME4 BS Equity</th>\n",
              "      <th>PETR4 BS Equity</th>\n",
              "      <th>USIM5 BS Equity</th>\n",
              "    </tr>\n",
              "    <tr>\n",
              "      <th>Data</th>\n",
              "      <th></th>\n",
              "      <th></th>\n",
              "      <th></th>\n",
              "      <th></th>\n",
              "      <th></th>\n",
              "    </tr>\n",
              "  </thead>\n",
              "  <tbody>\n",
              "    <tr>\n",
              "      <th>2016-01-05</th>\n",
              "      <td>0.025492</td>\n",
              "      <td>-0.049777</td>\n",
              "      <td>0.007183</td>\n",
              "      <td>-0.027656</td>\n",
              "      <td>-0.081875</td>\n",
              "    </tr>\n",
              "    <tr>\n",
              "      <th>2016-01-06</th>\n",
              "      <td>-0.013623</td>\n",
              "      <td>-0.091672</td>\n",
              "      <td>-0.008995</td>\n",
              "      <td>-0.041916</td>\n",
              "      <td>-0.089939</td>\n",
              "    </tr>\n",
              "    <tr>\n",
              "      <th>2016-01-07</th>\n",
              "      <td>-0.060269</td>\n",
              "      <td>0.057671</td>\n",
              "      <td>-0.024572</td>\n",
              "      <td>-0.021875</td>\n",
              "      <td>-0.056951</td>\n",
              "    </tr>\n",
              "    <tr>\n",
              "      <th>2016-01-08</th>\n",
              "      <td>-0.004295</td>\n",
              "      <td>0.018143</td>\n",
              "      <td>0.006580</td>\n",
              "      <td>0.001597</td>\n",
              "      <td>0.025755</td>\n",
              "    </tr>\n",
              "    <tr>\n",
              "      <th>2016-01-11</th>\n",
              "      <td>-0.011310</td>\n",
              "      <td>0.019706</td>\n",
              "      <td>0.005415</td>\n",
              "      <td>-0.028708</td>\n",
              "      <td>0.017316</td>\n",
              "    </tr>\n",
              "  </tbody>\n",
              "</table>\n",
              "</div>"
            ],
            "text/plain": [
              "            CCRO3 BS Equity  JBSS3 BS Equity  ...  PETR4 BS Equity  USIM5 BS Equity\n",
              "Data                                          ...                                  \n",
              "2016-01-05         0.025492        -0.049777  ...        -0.027656        -0.081875\n",
              "2016-01-06        -0.013623        -0.091672  ...        -0.041916        -0.089939\n",
              "2016-01-07        -0.060269         0.057671  ...        -0.021875        -0.056951\n",
              "2016-01-08        -0.004295         0.018143  ...         0.001597         0.025755\n",
              "2016-01-11        -0.011310         0.019706  ...        -0.028708         0.017316\n",
              "\n",
              "[5 rows x 5 columns]"
            ]
          },
          "metadata": {
            "tags": []
          },
          "execution_count": 19
        }
      ]
    },
    {
      "cell_type": "code",
      "metadata": {
        "id": "FBiID0RFxS1n",
        "colab_type": "code",
        "colab": {}
      },
      "source": [
        "import pandas as pd\n",
        "retornos.to_csv('/content/gdrive/My Drive/ParceriaBrunoGolfete/UsoDoGoogleColaboratory/Retornos.csv', sep=';')\n",
        "#salvando os retornos..."
      ],
      "execution_count": null,
      "outputs": []
    },
    {
      "cell_type": "markdown",
      "metadata": {
        "id": "NDvvdNIjzp4e",
        "colab_type": "text"
      },
      "source": [
        "Da mesma maneira que informou-se o caminho para a leitura dos dados, também deve-se informar o caminho da pasta onde pretende-se salvar o arquivo .csv."
      ]
    },
    {
      "cell_type": "markdown",
      "metadata": {
        "id": "sFUeRkbvz0WM",
        "colab_type": "text"
      },
      "source": [
        "## Dica!!\n",
        "\n",
        "Às vezes, quando o tempo de processamento é muito grande, pode haver um travamento do sistema e isso gera a necessidade de reiniciar o tempo de execução.\n",
        "\n",
        "Para isto vá em **RunTime** --> **Restart runtime**\n",
        "\n",
        "Repita os passos anteriores."
      ]
    },
    {
      "cell_type": "markdown",
      "metadata": {
        "id": "ATU9m0a10Uqu",
        "colab_type": "text"
      },
      "source": [
        "Esperamos ter contribuído!!\n",
        "Bom trabalho..."
      ]
    }
  ]
}